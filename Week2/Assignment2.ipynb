{
 "cells": [
  {
   "cell_type": "code",
   "execution_count": 39,
   "id": "91a8b61c",
   "metadata": {},
   "outputs": [],
   "source": [
    "import numpy as np\n",
    "import sklearn as sk"
   ]
  },
  {
   "cell_type": "code",
   "execution_count": 51,
   "id": "0ed56d83",
   "metadata": {},
   "outputs": [
    {
     "name": "stdout",
     "output_type": "stream",
     "text": [
      "76.5\n"
     ]
    }
   ],
   "source": [
    "#Mean:\n",
    "scores = [55 , 92 , 78 , 60 , 85 , 78 , 90 , 66 , 73 , 88]\n",
    "\n",
    "total_score = 0\n",
    "number_of_values = len(scores)\n",
    "for i in scores: \n",
    "    total_score += i\n",
    "\n",
    "mean = total_score/number_of_values\n",
    "print(mean)\n"
   ]
  },
  {
   "cell_type": "code",
   "execution_count": 62,
   "id": "c2bceaef",
   "metadata": {},
   "outputs": [
    {
     "name": "stdout",
     "output_type": "stream",
     "text": [
      "Median is: 78.0\n"
     ]
    }
   ],
   "source": [
    "#Median: \n",
    "\n",
    "sorted_values = sorted(scores)\n",
    "\n",
    "length = len(sorted_values)\n",
    "if length % 2 == 0:\n",
    "    mid1 = sorted_values[length // 2 - 1]\n",
    "    mid2 = sorted_values[length // 2]\n",
    "    median_value = (mid1 + mid2) / 2\n",
    "else:\n",
    "    median_value = sorted_values[length // 2]\n",
    "print(\"Median is:\", median_value)\n"
   ]
  },
  {
   "cell_type": "code",
   "execution_count": 72,
   "id": "460b29cd",
   "metadata": {},
   "outputs": [
    {
     "name": "stdout",
     "output_type": "stream",
     "text": [
      "Mode(s): [np.int64(78)]\n"
     ]
    }
   ],
   "source": [
    "#Mode\n",
    "\n",
    "freq_dict = {}\n",
    "for score in scores:\n",
    "    if score in freq_dict:\n",
    "        freq_dict[score] += 1\n",
    "    else:\n",
    "        freq_dict[score] = 1\n",
    "\n",
    "max_freq = 0\n",
    "for count in freq_dict.values():\n",
    "    if count > max_freq:\n",
    "        max_freq = count\n",
    "\n",
    "modes = []\n",
    "for score, count in freq_dict.items():\n",
    "    if count == max_freq:\n",
    "        modes.append(score)\n",
    "\n",
    "print(\"Mode(s):\", modes)"
   ]
  },
  {
   "cell_type": "code",
   "execution_count": 81,
   "id": "e70dd749",
   "metadata": {},
   "outputs": [
    {
     "name": "stdout",
     "output_type": "stream",
     "text": [
      "Range: 37\n"
     ]
    }
   ],
   "source": [
    "#Range\n",
    "\n",
    "range_value = max(scores) - min(scores)\n",
    "print(\"Range:\", range_value)"
   ]
  },
  {
   "cell_type": "code",
   "execution_count": 89,
   "id": "ecef9ee2",
   "metadata": {},
   "outputs": [
    {
     "name": "stdout",
     "output_type": "stream",
     "text": [
      "Variance (Population): 148.85\n",
      "Standard Deviation (Population): 12.200409829181968\n"
     ]
    }
   ],
   "source": [
    "#Variance and Standard deviation: \n",
    "\n",
    "import math\n",
    "\n",
    "squared_differences = []\n",
    "for score in scores:\n",
    "    diff = score - mean\n",
    "    squared = diff ** 2\n",
    "    squared_differences.append(squared)\n",
    "\n",
    "# Sum squared differences\n",
    "sum_squared_differences = sum(squared_differences)\n",
    "\n",
    "# Variance (Population)\n",
    "variance = sum_squared_differences / len(scores)\n",
    "print(\"Variance (Population):\", variance)\n",
    "\n",
    "# Standard Deviation (Population)\n",
    "standard_deviation = math.sqrt(variance)\n",
    "print(\"Standard Deviation (Population):\", standard_deviation)"
   ]
  },
  {
   "cell_type": "code",
   "execution_count": 96,
   "id": "44fdd3df",
   "metadata": {},
   "outputs": [
    {
     "name": "stdout",
     "output_type": "stream",
     "text": [
      "Mean: 76.5\n",
      "Median: 78.0\n",
      "Range: 37\n",
      "Population Variance: 148.85\n",
      "Population Standard Deviation: 12.200409829181968\n"
     ]
    }
   ],
   "source": [
    "#Using numpy Mean, Median, Range (max-min), Population Variance, and Population Standard Deviation\n",
    "\n",
    "\n",
    "scores = np.array([55, 92, 78, 60, 85, 78, 90, 66, 73, 88])\n",
    "\n",
    "mean = np.mean(scores)\n",
    "print(\"Mean:\", mean)\n",
    "\n",
    "\n",
    "median = np.median(scores)\n",
    "print(\"Median:\", median)\n",
    "\n",
    "\n",
    "range = np.max(scores) - np.min(scores)\n",
    "print(\"Range:\", range   )\n",
    "\n",
    "\n",
    "variance= np.var(scores, ddof=0)\n",
    "print(\"Population Variance:\", variance)\n",
    "\n",
    "\n",
    "standard_deviation = np.std(scores, ddof=0)\n",
    "print(\"Population Standard Deviation:\", standard_deviation)"
   ]
  },
  {
   "cell_type": "code",
   "execution_count": 102,
   "id": "d5a2990c",
   "metadata": {},
   "outputs": [
    {
     "name": "stdout",
     "output_type": "stream",
     "text": [
      "Mode: 78\n"
     ]
    }
   ],
   "source": [
    "#Used ChatGPT for understanding scipy and related functions...\n",
    "\n",
    "from scipy import stats\n",
    "\n",
    "scores = np.array([55, 92, 78, 60, 85, 78, 90, 66, 73, 88])\n",
    "\n",
    "from scipy import stats\n",
    "import numpy as np\n",
    "\n",
    "scores = np.array([55, 92, 78, 60, 85, 78, 90, 66, 73, 88])\n",
    "\n",
    "mode_result = stats.mode(scores, keepdims=False)  # keepdims=False returns scalar (Used ChatGPT for understanding error)\n",
    "mode_value = mode_result.mode\n",
    "\n",
    "\n",
    "print(\"Mode:\", mode_value)\n"
   ]
  },
  {
   "cell_type": "markdown",
   "id": "9b4a07d7",
   "metadata": {},
   "source": [
    "I have compared all valaues and they are similar which validates the my manual usage of python to calculate the different statistical numericals. "
   ]
  },
  {
   "cell_type": "code",
   "execution_count": 107,
   "id": "18cb06bc",
   "metadata": {},
   "outputs": [
    {
     "name": "stdout",
     "output_type": "stream",
     "text": [
      "Predicted Y values: [47 54 61 68 75 82 89 96]\n"
     ]
    }
   ],
   "source": [
    "#finding for slope = 7 and c = 40\n",
    "\n",
    "import numpy as np\n",
    "\n",
    "X_experience = np.array([1, 2, 3, 4, 5, 6, 7, 8])\n",
    "m = 7\n",
    "c = 40\n",
    "\n",
    "# Calculate predicted Y values using vectorized operation\n",
    "Y_predicted = m * X_experience + c\n",
    "\n",
    "print(\"Predicted Y values:\", Y_predicted)\n"
   ]
  },
  {
   "cell_type": "code",
   "execution_count": 111,
   "id": "38fb2ee3",
   "metadata": {},
   "outputs": [
    {
     "name": "stdout",
     "output_type": "stream",
     "text": [
      "Predicted value: [44.16666667 51.54761905 58.92857143 66.30952381 73.69047619 81.07142857\n",
      " 88.45238095 95.83333333]\n",
      "Mean squared error: 1.4880952380952395\n",
      "R2 score: 0.994824016563147\n"
     ]
    }
   ],
   "source": [
    "#Using Sklearn:\n",
    "\n",
    "from sklearn.linear_model import LinearRegression\n",
    "from sklearn.metrics import mean_squared_error, r2_score\n",
    "\n",
    "X_experience = np . array ([1 , 2 , 3 , 4 , 5 , 6 , 7 , 8]) . reshape ( -1 , 1)\n",
    "Y_salary = np . array ([45 , 50 , 60 , 65 , 75 , 80 , 90 , 95])\n",
    "\n",
    "model = LinearRegression()\n",
    "model.fit(X_experience,Y_salary)\n",
    "\n",
    "m = model.coef_[0]\n",
    "c = model.intercept_\n",
    "\n",
    "x_new = np.array([1,2,3,4,5,6,7,8]).reshape(-1,1)\n",
    "y_predicted = model.predict(x_new)\n",
    "\n",
    "print(\"Predicted value:\", y_predicted)\n",
    "\n",
    "#Finding mean square error: \n",
    "\n",
    "mse = mean_squared_error(Y_salary,y_predicted)\n",
    "r2 = r2_score(Y_salary,y_predicted)\n",
    "\n",
    "print(\"Mean squared error:\", mse)\n",
    "print(\"R2 score:\", r2)\n"
   ]
  },
  {
   "cell_type": "markdown",
   "id": "9a084c40",
   "metadata": {},
   "source": [
    "Interpretations: \n",
    "\n",
    "1. The m and c values tell the slope and the y intercept of the relationship respectively.\n",
    "2. The mean squared error tells how much the y predicted values differs from the y initial values, basically the salaries. It tells the average squared difference between y initial and y predicted. \n",
    "3. The r^2 tells how well your regression line explains the variance in the data. It ranges from 0 to 1 (or can be negative if the model is very bad)."
   ]
  },
  {
   "cell_type": "code",
   "execution_count": 114,
   "id": "1da0a002",
   "metadata": {},
   "outputs": [
    {
     "name": "stdout",
     "output_type": "stream",
     "text": [
      "z values: [-4. -3. -2. -1.  0.  1.  2.  3.  4.  5.]\n",
      "Predicted probabilities: [0.01798621 0.04742587 0.11920292 0.26894142 0.5        0.73105858\n",
      " 0.88079708 0.95257413 0.98201379 0.99330715]\n",
      "Predicted classes: [0 0 0 0 1 1 1 1 1 1]\n",
      "Accuracy: 90.00%\n"
     ]
    }
   ],
   "source": [
    "#Logistic regression task\n",
    "\n",
    "from sklearn.linear_model import LogisticRegression\n",
    "\n",
    "X_prep_hours = np . array ([0.5 , 1.0 , 1.5 , 2.0 , 2.5 , 3.0 , 3.5 , 4.0 , 4.5 ,5.0]) . reshape ( -1 , 1)\n",
    "Y_pass_fail = np . array ([0 , 0 , 0 , 0 , 1 , 0 , 1 , 1 , 1 , 1])\n",
    "\n",
    "m = 2\n",
    "c = -5\n",
    "\n",
    "z = m * X_prep_hours + c  \n",
    "\n",
    "\n",
    "def sigmoid(x):\n",
    "    return 1 / (1 + np.exp(-x))\n",
    "\n",
    "\n",
    "probability_pass = sigmoid(z)\n",
    "\n",
    "\n",
    "ypredicted = (probability_pass >= 0.5).astype(int)\n",
    "\n",
    "#Learnt accuracy calculations from chatGPT\n",
    "accuracy = np.sum(ypredicted.flatten() == Y_pass_fail) / len(Y_pass_fail)\n",
    "\n",
    "#Learnt .flatten from ChatGPT\n",
    "\n",
    "print(\"z values:\", z.flatten())\n",
    "print(\"Predicted probabilities:\", probability_pass.flatten())\n",
    "print(\"Predicted classes:\", ypredicted.flatten())\n",
    "print(f\"Accuracy: {accuracy*100:.2f}%\")\n"
   ]
  },
  {
   "cell_type": "code",
   "execution_count": 117,
   "id": "066762ec",
   "metadata": {},
   "outputs": [
    {
     "name": "stdout",
     "output_type": "stream",
     "text": [
      "Predicted classes on training data: [0 0 0 1 1 1 1 1 1 1]\n",
      "Accuracy on training data: 80.00%\n",
      "Confusion Matrix:\n",
      "[[3 2]\n",
      " [0 5]]\n"
     ]
    }
   ],
   "source": [
    "from sklearn.metrics import accuracy_score, confusion_matrix\n",
    "\n",
    "model = LogisticRegression(solver='liblinear')\n",
    "model.fit(X_prep_hours,Y_pass_fail)\n",
    "\n",
    "m = model.coef_[0][0]\n",
    "c = model.intercept_[0]\n",
    "\n",
    "y_predict = model.predict(X_prep_hours)\n",
    "print(\"Predicted classes on training data:\", y_predict)\n",
    "\n",
    "accuracy = accuracy_score(Y_pass_fail, y_predict)\n",
    "conf_matrix = confusion_matrix(Y_pass_fail, y_predict)\n",
    "print(f\"Accuracy on training data: {accuracy*100:.2f}%\")\n",
    "print(\"Confusion Matrix:\")\n",
    "print(conf_matrix)\n",
    "\n"
   ]
  },
  {
   "cell_type": "markdown",
   "id": "9dd446e0",
   "metadata": {},
   "source": [
    "Accuracy score tells you how well the model correctly predicts pass or fail overall on the given data.\n",
    "\n",
    "Confusion matrix parts:\n",
    "\n",
    "True Positives (TP): Model correctly predicts students who pass.\n",
    "True Negatives (TN): Model correctly predicts students who fail.\n",
    "False Positives (FP): Model incorrectly predicts a student passes when they actually fail.\n",
    "False Negatives (FN): Model incorrectly predicts a student fails when they actually pass."
   ]
  },
  {
   "cell_type": "code",
   "execution_count": null,
   "id": "d18935ee",
   "metadata": {},
   "outputs": [
    {
     "name": "stdout",
     "output_type": "stream",
     "text": [
      "Final centroids:\n",
      " [[5.5  3.75]\n",
      " [3.25 8.  ]]\n",
      "Cluster labels for each point:\n",
      " [1 1 0 1 0 0 0 1]\n"
     ]
    },
    {
     "data": {
      "image/png": "[encoded data removed]",
      "text/plain": [
       "<Figure size 640x480 with 1 Axes>"
      ]
     },
     "metadata": {},
     "output_type": "display_data"
    }
   ],
   "source": [
    "#K means clustering\n",
    "\n",
    "X_cluster_data = np . array ([[2 , 10] , [2 , 5] , [8 , 4] , [5 , 8] , [7 , 5] , [6 , 4] , [1 , 2] , [4 , 9]])\n",
    "\n",
    "# Step 1: Initialisation: C1 = [2,10] and C2= [2,5]\n",
    "\n",
    "# Step 2: Iteration 1 : After using d = whole root of (x2-x1)^2 + (y2-y1)^2. Using this then we find the closest centroids. for point 0 = c1, 1 = c2, 2 = c2, 3 = c1, 4 = c2, 5= c2, 6 = c2 and 7 = c1. \n",
    "\n",
    "# Step 3: Updating step where we average each point assigned to the cluster: for c1 = (2+5+4/3, 10+9+8/3) = (2.67,9.0) for c2 = (2+8+1+6+7/5,5+4+5+4+2/5) = (4.8,4.0)\n",
    "\n",
    "# Step 4: Do steps again with new c1 and c2 values to verify. The centroids are: c1 = [3.67,9.0], c2 = [4.8,4.0]\n",
    "\n",
    "#Using Sklearn: \n",
    "\n",
    "import numpy as np\n",
    "from sklearn.cluster import KMeans\n",
    "import matplotlib.pyplot as plt\n",
    "\n",
    "X_cluster_data = np.array([\n",
    "    [2, 10], [2, 5], [8, 4], [5, 8], \n",
    "    [7, 5], [6, 4], [1, 2], [4, 9]\n",
    "])\n",
    "\n",
    "kmeans = KMeans(n_clusters=2, random_state=42, n_init='auto')\n",
    "kmeans.fit(X_cluster_data)\n",
    "\n",
    "print(\"Final centroids:\\n\", kmeans.cluster_centers_)\n",
    "print(\"Cluster labels for each point:\\n\", kmeans.labels_)\n",
    "\n",
    "#Visualisation through color-coded clusters (I learnt matplotlib :) )\n",
    "\n",
    "plt.scatter(X_cluster_data[:, 0], X_cluster_data[:, 1], c=kmeans.labels_, cmap='viridis', s=100)\n",
    "plt.scatter(kmeans.cluster_centers_[:, 0], kmeans.cluster_centers_[:, 1], color='red', marker='X', s=200, label='Centroids')\n",
    "plt.title(\"KMeans Clustering (k=2)\")\n",
    "plt.xlabel(\"X\")\n",
    "plt.ylabel(\"Y\")\n",
    "plt.legend()\n",
    "plt.show()\n",
    "\n"
   ]
  }
 ],
 "metadata": {
  "kernelspec": {
   "display_name": "horizons25",
   "language": "python",
   "name": "python3"
  },
  "language_info": {
   "codemirror_mode": {
    "name": "ipython",
    "version": 3
   },
   "file_extension": ".py",
   "mimetype": "text/x-python",
   "name": "python",
   "nbconvert_exporter": "python",
   "pygments_lexer": "ipython3",
   "version": "3.12.9"
  }
 },
 "nbformat": 4,
 "nbformat_minor": 5
}
